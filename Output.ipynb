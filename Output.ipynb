{
 "cells": [
  {
   "cell_type": "code",
   "execution_count": 1,
   "id": "5fa83483-2336-4f21-bee1-916b3d3d2b2c",
   "metadata": {},
   "outputs": [
    {
     "name": "stdout",
     "output_type": "stream",
     "text": [
      "NAME:Ayush Naudiyal\n",
      "BATCH:B5\n",
      "SAP ID:590017655\n",
      "I am using Python version 3.12.4 (tags/v3.12.4:8e8a4ba, Jun  6 2024, 19:30:16) [MSC v.1940 64 bit (AMD64)].\n",
      "Hello Python World!\n"
     ]
    }
   ],
   "source": [
    "import sys\n",
    "python_version = sys.version\n",
    "print(\"NAME:Ayush Naudiyal\\nBATCH:B5\\nSAP ID:590017655\")\n",
    "print(f\"I am using Python version {python_version}.\")\n",
    "\n",
    "print(\"Hello Python World!\")"
   ]
  },
  {
   "cell_type": "markdown",
   "id": "90976ee9-d737-4ecb-8a7f-ad6b46d4f62f",
   "metadata": {},
   "source": [
    "# Write a Python program that takes a user's first and last name as input and\n",
    "#  prints them in reverse order with a space between them."
   ]
  },
  {
   "cell_type": "code",
   "execution_count": 2,
   "id": "6689f7a6-abad-4a20-bf8e-bd09655bea22",
   "metadata": {},
   "outputs": [
    {
     "name": "stdin",
     "output_type": "stream",
     "text": [
      "enter the first name  Ayush\n",
      "enter the second name  Naudiyal\n"
     ]
    },
    {
     "name": "stdout",
     "output_type": "stream",
     "text": [
      "layiduaN hsuyA\n"
     ]
    }
   ],
   "source": [
    "str1=input(\"enter the first name \")\n",
    "str2=input(\"enter the second name \")\n",
    "print((str2[::-1] + \" \"+ str1[::-1]))"
   ]
  },
  {
   "cell_type": "code",
   "execution_count": null,
   "id": "fc28fb4b-3143-43af-a69b-17a1b805d6a3",
   "metadata": {},
   "outputs": [],
   "source": [
    "# Write a Python program that takes an input number from the user,\n",
    "#  converts it to different numeric data types (integer, float, and complex),\n",
    "#  and displays the converted values."
   ]
  },
  {
   "cell_type": "code",
   "execution_count": 3,
   "id": "d8894592-ecfc-45d9-b3f1-4ffa660715c6",
   "metadata": {},
   "outputs": [
    {
     "name": "stdin",
     "output_type": "stream",
     "text": [
      "Enter a number:  123\n"
     ]
    },
    {
     "name": "stdout",
     "output_type": "stream",
     "text": [
      "Integer: 123\n",
      "Float: 123.0\n",
      "Complex: (123+0j)\n"
     ]
    }
   ],
   "source": [
    "\n",
    "user_input = input(\"Enter a number: \")\n",
    "\n",
    "print(\"Integer:\", int(user_input))\n",
    "print(\"Float:\", float(user_input))\n",
    "print(\"Complex:\", complex(user_input))"
   ]
  },
  {
   "cell_type": "code",
   "execution_count": null,
   "id": "200bad76-9e11-4c61-b6ad-87326e404863",
   "metadata": {},
   "outputs": [],
   "source": [
    "# Create a Python script that calculates the area of a rectangle.\n",
    "# Modify the rectangle area program to format the output so that it displays the area with two decimal places."
   ]
  },
  {
   "cell_type": "code",
   "execution_count": 4,
   "id": "cd1675ad-93a2-40de-9848-1c4829f013f8",
   "metadata": {},
   "outputs": [
    {
     "name": "stdin",
     "output_type": "stream",
     "text": [
      "Enter the lenght of rectangle :  8\n",
      "Enter the width of rectangle :  9\n"
     ]
    },
    {
     "name": "stdout",
     "output_type": "stream",
     "text": [
      "The area is 72.00\n"
     ]
    }
   ],
   "source": [
    "length=float(input(\"Enter the lenght of rectangle : \"))\n",
    "width=float(input(\"Enter the width of rectangle : \"))\n",
    "area=length*width\n",
    "print(f\"The area is {area:.2f}\")"
   ]
  },
  {
   "cell_type": "code",
   "execution_count": null,
   "id": "f779b88b-3254-4c53-8185-d6f71049a15d",
   "metadata": {},
   "outputs": [],
   "source": [
    "# Write a Python script that takes three numbers as input and\n",
    "#  prints their average using the % method for string formatting"
   ]
  },
  {
   "cell_type": "code",
   "execution_count": 5,
   "id": "fecb79cf-2ccc-466b-88cf-f52c987a935a",
   "metadata": {},
   "outputs": [
    {
     "name": "stdin",
     "output_type": "stream",
     "text": [
      "enter the first number : 7\n",
      "enter the second number : 45\n",
      "enter the third number : 7\n"
     ]
    },
    {
     "name": "stdout",
     "output_type": "stream",
     "text": [
      "The average of given number is 19.67\n"
     ]
    }
   ],
   "source": [
    "num1=float(input(\"enter the first number :\"))\n",
    "\n",
    "num2=float(input(\"enter the second number :\"))\n",
    "\n",
    "num3=float(input(\"enter the third number :\"))\n",
    "\n",
    "avg=(num1+num2+num3)/3\n",
    "print(\"The average of given number is %.2f\" %avg)"
   ]
  },
  {
   "cell_type": "code",
   "execution_count": null,
   "id": "59f0c205-54e0-418e-926b-4e39dddcdb5f",
   "metadata": {},
   "outputs": [],
   "source": [
    "#Write a Python program that asks the user for a number and determines whether it is positive, negative, or zero.\n",
    "\n",
    "#Implement a loop that continues to ask the user for a number until they enter 'exit'.\n",
    "\n",
    "#Use break to exit the loop and continue to prompt for a new number if the input is not 'exit'."
   ]
  },
  {
   "cell_type": "code",
   "execution_count": 6,
   "id": "ad9c3177-03c0-43c9-be6d-ad13d17e64ad",
   "metadata": {},
   "outputs": [
    {
     "name": "stdin",
     "output_type": "stream",
     "text": [
      "Enter a number (or type 'exit' to quit):  4\n"
     ]
    },
    {
     "name": "stdout",
     "output_type": "stream",
     "text": [
      "4.0 is a positive number.\n"
     ]
    },
    {
     "name": "stdin",
     "output_type": "stream",
     "text": [
      "Enter a number (or type 'exit' to quit):  -2\n"
     ]
    },
    {
     "name": "stdout",
     "output_type": "stream",
     "text": [
      "-2.0 is a negative number.\n"
     ]
    },
    {
     "name": "stdin",
     "output_type": "stream",
     "text": [
      "Enter a number (or type 'exit' to quit):  0\n"
     ]
    },
    {
     "name": "stdout",
     "output_type": "stream",
     "text": [
      "0.0 is zero.\n"
     ]
    },
    {
     "name": "stdin",
     "output_type": "stream",
     "text": [
      "Enter a number (or type 'exit' to quit):  exit\n"
     ]
    }
   ],
   "source": [
    "while True:\n",
    "    user_input = input(\"Enter a number (or type 'exit' to quit): \")\n",
    "\n",
    "    if user_input.lower() == 'exit':\n",
    "        break\n",
    "\n",
    "    try:\n",
    "        num = float(user_input)\n",
    "        if num > 0:\n",
    "            print(f\"{num} is a positive number.\")\n",
    "        elif num < 0:\n",
    "            print(f\"{num} is a negative number.\")\n",
    "        else:\n",
    "            print(f\"{num} is zero.\")\n",
    "    except ValueError:\n",
    "        print(\"Invalid input. Please enter a number or type 'exit' to quit.\")\n",
    "        continue"
   ]
  },
  {
   "cell_type": "code",
   "execution_count": null,
   "id": "8dd87173-5cad-4551-b8bb-af1f2b4f15f4",
   "metadata": {},
   "outputs": [],
   "source": [
    "# Create a Python script that takes two numbers as input and \n",
    "# prints whether both numbers are even, odd, or one of each using relational and logical operators."
   ]
  },
  {
   "cell_type": "code",
   "execution_count": 7,
   "id": "fcb3bb01-08d6-45c2-bf00-dd5ead7ea806",
   "metadata": {},
   "outputs": [
    {
     "name": "stdin",
     "output_type": "stream",
     "text": [
      "Enter the first value : 7\n",
      "Enter the  second value : 9\n"
     ]
    },
    {
     "name": "stdout",
     "output_type": "stream",
     "text": [
      "both are odd\n"
     ]
    }
   ],
   "source": [
    "val1 = int(input(\"Enter the first value :\"))\n",
    "                 \n",
    "val2 = int(input(\"Enter the  second value :\"))\n",
    "        \n",
    "if(val1%2==0 and val2%2==0):\n",
    "    print(\"both are even\")\n",
    "\n",
    "elif(val1%2!=0 and val2%2!=0):\n",
    "    print(\"both are odd\")\n",
    "elif(val1%2!=0 or val2%2!=0):\n",
    "    print(\"One number is even and the other is odd.\")"
   ]
  },
  {
   "cell_type": "code",
   "execution_count": null,
   "id": "d82b8503-4242-4634-9c20-68cc380bf88f",
   "metadata": {},
   "outputs": [],
   "source": [
    "#  Write a Python program that takes an integer input and\n",
    "#  prints its binary, octal, and hexadecimal equivalents using a for loop and bitwise operators."
   ]
  },
  {
   "cell_type": "code",
   "execution_count": 8,
   "id": "c39bab70-ab13-4d0e-af06-8595c15fda11",
   "metadata": {},
   "outputs": [
    {
     "name": "stdin",
     "output_type": "stream",
     "text": [
      "Enter an integer:  20\n"
     ]
    },
    {
     "name": "stdout",
     "output_type": "stream",
     "text": [
      "Binary: 10100\n",
      "Hexadecimal: 14\n",
      "Octal: 24\n"
     ]
    }
   ],
   "source": [
    "num = int(input(\"Enter an integer: \"))\n",
    "\n",
    "formats = [('Binary', bin), ('Hexadecimal', hex), ('Octal', oct)]\n",
    "\n",
    "# Loop through each format and print the result\n",
    "for name, func in formats:\n",
    "    print(f\"{name}: {func(num)[2:].upper()}\")"
   ]
  },
  {
   "cell_type": "code",
   "execution_count": null,
   "id": "03da9391-015a-4a24-88c1-623d04866fcc",
   "metadata": {},
   "outputs": [],
   "source": []
  }
 ],
 "metadata": {
  "kernelspec": {
   "display_name": "Python 3 (ipykernel)",
   "language": "python",
   "name": "python3"
  },
  "language_info": {
   "codemirror_mode": {
    "name": "ipython",
    "version": 3
   },
   "file_extension": ".py",
   "mimetype": "text/x-python",
   "name": "python",
   "nbconvert_exporter": "python",
   "pygments_lexer": "ipython3",
   "version": "3.12.4"
  }
 },
 "nbformat": 4,
 "nbformat_minor": 5
}
